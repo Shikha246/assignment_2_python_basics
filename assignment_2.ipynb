{
 "cells": [
  {
   "cell_type": "markdown",
   "id": "bf65a39c",
   "metadata": {},
   "source": [
    "## 1.What are the two values of the Boolean data type? How do you write them?"
   ]
  },
  {
   "cell_type": "markdown",
   "id": "096b0e99",
   "metadata": {},
   "source": [
    "True\n",
    "False"
   ]
  },
  {
   "cell_type": "markdown",
   "id": "3019e273",
   "metadata": {},
   "source": [
    "## 2. What are the three different types of Boolean operators?"
   ]
  },
  {
   "cell_type": "markdown",
   "id": "549fde9b",
   "metadata": {},
   "source": [
    "and\n",
    "or\n",
    "not"
   ]
  },
  {
   "cell_type": "markdown",
   "id": "971d6961",
   "metadata": {},
   "source": [
    "## 3. Make a list of each Boolean operator&#39;s truth tables (i.e. every possible combination of Boolean values for the operator and what it evaluate )."
   ]
  },
  {
   "cell_type": "markdown",
   "id": "7c47084e",
   "metadata": {},
   "source": [
    "A and B is the input \n",
    "0 reperesents false \n",
    "1 represents true in the given truth table\n",
    "\n",
    "and boolean operator\n",
    "A B output\n",
    "0 0  0\n",
    "0 1  1\n",
    "1 0  0\n",
    "1 1  1\n",
    "\n",
    "or boolean operator\n",
    "A B output\n",
    "0 0  0\n",
    "0 1  1\n",
    "1 0  1\n",
    "1 1  1\n",
    "\n",
    "not boolean operator\n",
    "A output\n",
    "0  1\n",
    "1  0"
   ]
  },
  {
   "cell_type": "markdown",
   "id": "87d62d62",
   "metadata": {},
   "source": [
    "## 4. What are the values of the following expressions?\n",
    "(5 > 4) and (3 == 5)\n",
    "\n",
    "not (5 > 4)\n",
    "\n",
    "(5 > 4) or (3 == 5)\n",
    "\n",
    "not ((5 > 4) or (3 == 5))\n",
    "\n",
    "(True and True) and (True == False)\n",
    "\n",
    "(not False) or (not True)"
   ]
  },
  {
   "cell_type": "markdown",
   "id": "3b278af9",
   "metadata": {},
   "source": [
    "(5 > 4) and (3 == 5)  ans> False\n",
    "\n",
    "not (5 > 4)   ans> False\n",
    "\n",
    "(5 > 4) or (3 == 5)   ans> True\n",
    "\n",
    "not ((5 > 4) or (3 == 5))  ans> False\n",
    "\n",
    "(True and True) and (True == False)   ans> False\n",
    "\n",
    "(not False) or (not True)   ans> True"
   ]
  },
  {
   "cell_type": "markdown",
   "id": "b5a29872",
   "metadata": {},
   "source": [
    "## 5. What are the six comparison operators?"
   ]
  },
  {
   "cell_type": "markdown",
   "id": "e06faa07",
   "metadata": {},
   "source": [
    ">  greater than\n",
    "<  less than\n",
    ">= greater than equal to\n",
    "<= less than equal to \n",
    "== equality operator\n",
    "!= not equal operator"
   ]
  },
  {
   "cell_type": "markdown",
   "id": "581cd4a6",
   "metadata": {},
   "source": [
    "## 6. How do you tell the difference between the equal to and assignment operators?Describe a condition and when you would use one."
   ]
  },
  {
   "cell_type": "markdown",
   "id": "675298f9",
   "metadata": {},
   "source": [
    "= equal to is used to assign a value to a variable,list ,array, tuple,set dictionary\n",
    "\n",
    "the assignment operators are\n",
    "if x is a variable\n",
    "+=   x+=3   x=x+3\n",
    "In the above example x is a variable and += means x is increasing by 3\n",
    "\n",
    "-=   x-=3   x=x-3\n",
    "*=   x*=3   x=x*3\n",
    "/=   x/=3   x=x/3"
   ]
  },
  {
   "cell_type": "markdown",
   "id": "eb650a4d",
   "metadata": {},
   "source": [
    "## 7. Identify the three blocks in this code:\n",
    "spam = 0\n",
    "\n",
    "if spam == 10:\n",
    "\n",
    "print(&#39;eggs&#39;)\n",
    "\n",
    "if spam &gt; 5:\n",
    "\n",
    "print(&#39;bacon&#39;)\n",
    "\n",
    "else:\n",
    "\n",
    "print(&#39;ham&#39;)\n",
    "\n",
    "print(&#39;spam&#39;)\n",
    "\n",
    "print(&#39;spam&#39;)"
   ]
  },
  {
   "cell_type": "markdown",
   "id": "301f1698",
   "metadata": {},
   "source": [
    "there are two if block and one else block"
   ]
  },
  {
   "cell_type": "markdown",
   "id": "36cd11c1",
   "metadata": {},
   "source": [
    "## 8. Write code that prints Hello if 1 is stored in spam, prints Howdy if 2 is stored in spam, and prints Greetings! if anything else is stored in spam."
   ]
  },
  {
   "cell_type": "code",
   "execution_count": 7,
   "id": "ab3be082",
   "metadata": {},
   "outputs": [
    {
     "name": "stdout",
     "output_type": "stream",
     "text": [
      "[1]1\n",
      "[2]2\n",
      "[3]3\n",
      "Enter a number :3\n",
      "Greetings!\n"
     ]
    }
   ],
   "source": [
    "print(f\"[1]1\\n[2]2\\n[3]3\")\n",
    "spam=int(input(\"Enter a number :\"))\n",
    "if spam==1:\n",
    "    print(\"Hello\")\n",
    "elif spam==2:\n",
    "    print(\"Howdy\")\n",
    "else:\n",
    "    print(\"Greetings!\")"
   ]
  },
  {
   "cell_type": "markdown",
   "id": "a96597d1",
   "metadata": {},
   "source": [
    "## 9.If your programme is stuck in an endless loop, what keys you’ll press?"
   ]
  },
  {
   "cell_type": "markdown",
   "id": "fb250300",
   "metadata": {},
   "source": [
    "ctrl+c helps in intervention of the flow of the program if the program stuck in an endless loop."
   ]
  },
  {
   "cell_type": "markdown",
   "id": "cd48eb1e",
   "metadata": {},
   "source": [
    "## 10. How can you tell the difference between break and continue?"
   ]
  },
  {
   "cell_type": "markdown",
   "id": "bd5b0dc4",
   "metadata": {},
   "source": [
    "break command breaks the execution of the code in the given program whereas the continue command keeps continuing the execution of program."
   ]
  },
  {
   "cell_type": "markdown",
   "id": "a7465fac",
   "metadata": {},
   "source": [
    "## 11. In a for loop, what is the difference between range(10), range(0, 10), and range(0, 10, 1)?"
   ]
  },
  {
   "cell_type": "markdown",
   "id": "48d2b0b4",
   "metadata": {},
   "source": [
    "range(10) means the range function has one argument and gives the numbers from 0 to 9-----range(end)\n",
    "\n",
    "range(0,10) means the range function has two arguments and gives the numbers from 0 to 9 as start value is included and end value is excluded----------range(start,end)\n",
    "\n",
    "range(0,10,1) means range(start,end,interval)\n",
    "means it gives the values from 0 to 9 at the step interval of 1\n"
   ]
  },
  {
   "cell_type": "markdown",
   "id": "ab9066b8",
   "metadata": {},
   "source": [
    "## 12. Write a short program that prints the numbers 1 to 10 using a for loop. Then write an equivalent program that prints the numbers 1 to 10 using a while loop."
   ]
  },
  {
   "cell_type": "code",
   "execution_count": 2,
   "id": "c2295cfb",
   "metadata": {},
   "outputs": [
    {
     "name": "stdout",
     "output_type": "stream",
     "text": [
      "1\n",
      "2\n",
      "3\n",
      "4\n",
      "5\n",
      "6\n",
      "7\n",
      "8\n",
      "9\n",
      "10\n"
     ]
    }
   ],
   "source": [
    "# for loop\n",
    "for i in range(1,11):\n",
    "    print(i)\n",
    "    "
   ]
  },
  {
   "cell_type": "code",
   "execution_count": 5,
   "id": "f2acd8be",
   "metadata": {},
   "outputs": [
    {
     "name": "stdout",
     "output_type": "stream",
     "text": [
      "1\n",
      "2\n",
      "3\n",
      "4\n",
      "5\n",
      "6\n",
      "7\n",
      "8\n",
      "9\n",
      "10\n"
     ]
    }
   ],
   "source": [
    "#while loop\n",
    "counter=1\n",
    "while counter <=10:\n",
    "    print(counter)\n",
    "    counter=counter+1\n",
    "    \n",
    "    "
   ]
  },
  {
   "cell_type": "markdown",
   "id": "1a43ef24",
   "metadata": {},
   "source": [
    "## 13. If you had a function named bacon() inside a module named spam, how would you call it after importing spam?"
   ]
  },
  {
   "cell_type": "code",
   "execution_count": null,
   "id": "50bafbf5",
   "metadata": {},
   "outputs": [],
   "source": [
    "import spam\n",
    "spam.bacon()"
   ]
  },
  {
   "cell_type": "code",
   "execution_count": null,
   "id": "3d016b4e",
   "metadata": {},
   "outputs": [],
   "source": []
  },
  {
   "cell_type": "code",
   "execution_count": null,
   "id": "8fe5f80b",
   "metadata": {},
   "outputs": [],
   "source": []
  },
  {
   "cell_type": "code",
   "execution_count": null,
   "id": "8369eddf",
   "metadata": {},
   "outputs": [],
   "source": []
  }
 ],
 "metadata": {
  "kernelspec": {
   "display_name": "Python 3 (ipykernel)",
   "language": "python",
   "name": "python3"
  },
  "language_info": {
   "codemirror_mode": {
    "name": "ipython",
    "version": 3
   },
   "file_extension": ".py",
   "mimetype": "text/x-python",
   "name": "python",
   "nbconvert_exporter": "python",
   "pygments_lexer": "ipython3",
   "version": "3.9.7"
  }
 },
 "nbformat": 4,
 "nbformat_minor": 5
}
